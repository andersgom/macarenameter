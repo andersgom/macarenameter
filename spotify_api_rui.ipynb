{
 "cells": [
  {
   "cell_type": "code",
   "execution_count": 12,
   "metadata": {},
   "outputs": [],
   "source": [
    "import spotipy\n",
    "from spotipy.oauth2 import SpotifyOAuth\n",
    "import getpass\n",
    "\n",
    "client_id = getpass.getpass()\n",
    "client_secret = getpass.getpass()\n",
    "\n",
    "\n",
    "\n",
    "sp = spotipy.Spotify(auth_manager=SpotifyOAuth(client_id,\n",
    "                                               client_secret,\n",
    "                                               redirect_uri=\"https://localhost:8089/callback\",\n",
    "                                               scope=\"user-library-read\"))\n",
    "\n",
    "\n",
    "\n",
    "results = sp.current_user_saved_tracks() ## here we don't use endpoints (urls basically), and just use sp. and then there are methods\n",
    "\n"
   ]
  },
  {
   "cell_type": "code",
   "execution_count": 13,
   "metadata": {},
   "outputs": [],
   "source": [
    "## Finding the track URIs from a given playlist\n",
    "\n"
   ]
  },
  {
   "cell_type": "code",
   "execution_count": 14,
   "metadata": {},
   "outputs": [],
   "source": [
    "clean_df = playlist_df.drop(['album_name','artist_popularity','type','id','uri','analysis_url'], axis = 1)"
   ]
  },
  {
   "cell_type": "code",
   "execution_count": 15,
   "metadata": {},
   "outputs": [],
   "source": [
    "clean_df\n",
    "playlist_df = pd.DataFrame(columns=['artist_name','track_name','album_name','artist_popularity','track_popularity', 'artist_genres','danceability',\n",
    "'energy','key','loudness','mode','speechiness','acousticness','instrumentalness','liveness','valence','tempo','type','id','uri','track_href','analysis_url',\n",
    "'duration_ms','time_signature'])\n"
   ]
  },
  {
   "cell_type": "code",
   "execution_count": 19,
   "metadata": {},
   "outputs": [],
   "source": [
    "import pandas as pd\n",
    "\n",
    "def playlist_dataframe(playlist_link):\n",
    "\n",
    "    playlist_URI = playlist_link.split(\"/\")[-1].split(\"?\")[0]\n",
    "\n",
    "    track_uris = [x[\"track\"][\"uri\"] for x in sp.playlist_tracks(playlist_URI)[\"items\"]] \n",
    "\n",
    "    df = pd.DataFrame(columns=['artist_name','track_name','album_name','release_date','artist_popularity','track_popularity', 'artist_genres','danceability',\n",
    "    'energy','key','loudness','mode','speechiness','acousticness','instrumentalness','liveness','valence','tempo','type','id','uri','track_href','analysis_url',\n",
    "    'duration_ms','time_signature'])\n",
    "\n",
    "\n",
    "\n",
    "    for track in sp.playlist_tracks(playlist_URI)[\"items\"]:\n",
    "\n",
    "        info_vector = []\n",
    "        #URI\n",
    "        track_uri = track[\"track\"][\"uri\"]\n",
    "        \n",
    "        #Track name\n",
    "        track_name = track[\"track\"][\"name\"]\n",
    "        \n",
    "        #Main Artist\n",
    "        artist_uri = track[\"track\"][\"artists\"][0][\"uri\"]\n",
    "        artist_info = sp.artist(artist_uri)\n",
    "        \n",
    "        #Name, popularity, genre\n",
    "        artist_name = track[\"track\"][\"artists\"][0][\"name\"]\n",
    "        artist_pop = artist_info[\"popularity\"]\n",
    "        artist_genres = artist_info[\"genres\"]\n",
    "        \n",
    "        #Album\n",
    "        album = track[\"track\"][\"album\"][\"name\"]\n",
    "        #Release Date\n",
    "        release_date = track['track']['album']['release_date'] ## keep full date \n",
    "\n",
    "        #Popularity of the track\n",
    "        track_pop = track[\"track\"][\"popularity\"]\n",
    "\n",
    "        info_vector = [artist_name,track_name,album,release_date,artist_pop,track_pop,artist_genres]\n",
    "\n",
    "        info_vector.extend(list((sp.audio_features(track_uri)[0].values())))\n",
    "\n",
    "        df.loc[len(df)] = info_vector\n",
    "\n",
    "    return df\n"
   ]
  },
  {
   "cell_type": "code",
   "execution_count": 28,
   "metadata": {},
   "outputs": [],
   "source": [
    "todays_top_hits = playlist_dataframe('https://open.spotify.com/playlist/37i9dQZF1DXcBWIGoYBM5M?si=6b87276c523e43a1')"
   ]
  },
  {
   "cell_type": "code",
   "execution_count": 29,
   "metadata": {},
   "outputs": [],
   "source": [
    "just_hits = playlist_dataframe('https://open.spotify.com/playlist/37i9dQZF1DXcRXFNfZr7Tp?si=ac2a6d48bf0a4d19')"
   ]
  },
  {
   "cell_type": "code",
   "execution_count": 22,
   "metadata": {},
   "outputs": [],
   "source": [
    "all_out_2000s = playlist_dataframe('https://open.spotify.com/playlist/37i9dQZF1DX4o1oenSJRJd?si=8525e823c80c4425')"
   ]
  },
  {
   "cell_type": "code",
   "execution_count": 23,
   "metadata": {},
   "outputs": [],
   "source": [
    "all_out_90s = playlist_dataframe('https://open.spotify.com/playlist/37i9dQZF1DXbTxeAdrVG2l?si=a3d1c70be733411a')"
   ]
  },
  {
   "cell_type": "code",
   "execution_count": 24,
   "metadata": {},
   "outputs": [],
   "source": [
    "# all_out_80s = playlist_dataframe('https://open.spotify.com/playlist/37i9dQZF1DX4UtSsGT1Sbe?si=66b14e23e8114cd3')"
   ]
  },
  {
   "cell_type": "code",
   "execution_count": 25,
   "metadata": {},
   "outputs": [],
   "source": [
    "# all_out_70s = playlist_dataframe('https://open.spotify.com/playlist/37i9dQZF1DWTJ7xPn4vNaz?si=40beba4990f841e6')"
   ]
  },
  {
   "cell_type": "code",
   "execution_count": 26,
   "metadata": {},
   "outputs": [],
   "source": [
    "# all_out_60s = playlist_dataframe('https://open.spotify.com/playlist/37i9dQZF1DXaKIA8E7WcJj?si=3f1a13d5220a4bdd')"
   ]
  },
  {
   "cell_type": "code",
   "execution_count": 27,
   "metadata": {},
   "outputs": [],
   "source": [
    "soft_pop_hits = playlist_dataframe('https://open.spotify.com/playlist/37i9dQZF1DWTwnEm1IYyoj?si=40673a25b16c4097')"
   ]
  },
  {
   "cell_type": "code",
   "execution_count": 63,
   "metadata": {},
   "outputs": [],
   "source": [
    "all_popular_df = pd.concat([todays_top_hits, just_hits, all_out_2000s,all_out_90s,soft_pop_hits], axis = 0)"
   ]
  },
  {
   "cell_type": "code",
   "execution_count": 61,
   "metadata": {},
   "outputs": [],
   "source": [
    "all_popular_df.drop_duplicates(subset =\"id\",\n",
    "                     keep = 'first', inplace = True)\n",
    " \n",
    " # removing duplicate entries based on id"
   ]
  },
  {
   "cell_type": "code",
   "execution_count": 64,
   "metadata": {},
   "outputs": [],
   "source": [
    "all_popular_df.to_csv('all_popular_csv.csv', index = False)"
   ]
  },
  {
   "cell_type": "code",
   "execution_count": 49,
   "metadata": {},
   "outputs": [],
   "source": [
    "spain = playlist_dataframe('https://open.spotify.com/playlist/08FwuC2mWOk78HgL30lvk8?si=4778501cd4e84d14')"
   ]
  },
  {
   "cell_type": "code",
   "execution_count": 58,
   "metadata": {},
   "outputs": [
    {
     "data": {
      "text/plain": [
       "'1989-01-01'"
      ]
     },
     "execution_count": 58,
     "metadata": {},
     "output_type": "execute_result"
    }
   ],
   "source": [
    "spain['release_date'].min()"
   ]
  },
  {
   "cell_type": "code",
   "execution_count": null,
   "metadata": {},
   "outputs": [],
   "source": []
  },
  {
   "cell_type": "code",
   "execution_count": null,
   "metadata": {},
   "outputs": [],
   "source": []
  }
 ],
 "metadata": {
  "kernelspec": {
   "display_name": "Python 3.9.12 ('julyironhack')",
   "language": "python",
   "name": "python3"
  },
  "language_info": {
   "codemirror_mode": {
    "name": "ipython",
    "version": 3
   },
   "file_extension": ".py",
   "mimetype": "text/x-python",
   "name": "python",
   "nbconvert_exporter": "python",
   "pygments_lexer": "ipython3",
   "version": "3.9.12"
  },
  "orig_nbformat": 4,
  "vscode": {
   "interpreter": {
    "hash": "d4f28bf35b1054d239a9ee1bfa6fb652dd82e0e5a8ae6f2857cd28eda2674f2d"
   }
  }
 },
 "nbformat": 4,
 "nbformat_minor": 2
}
