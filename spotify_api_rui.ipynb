{
 "cells": [
  {
   "cell_type": "code",
   "execution_count": 15,
   "metadata": {},
   "outputs": [],
   "source": [
    "import spotipy\n",
    "from spotipy.oauth2 import SpotifyOAuth\n",
    "import getpass\n",
    "import pandas as pd\n",
    "import numpy as np\n",
    "\n",
    "client_id = getpass.getpass()\n",
    "client_secret = getpass.getpass()\n",
    "\n",
    "\n",
    "\n",
    "sp = spotipy.Spotify(auth_manager=SpotifyOAuth(client_id,\n",
    "                                               client_secret,\n",
    "                                               redirect_uri=\"https://localhost:8089/callback\",\n",
    "                                               scope=\"user-library-read\"))\n",
    "\n",
    "\n",
    "\n",
    "results = sp.current_user_saved_tracks() ## here we don't use endpoints (urls basically), and just use sp. and then there are methods\n",
    "\n"
   ]
  },
  {
   "cell_type": "code",
   "execution_count": null,
   "metadata": {},
   "outputs": [],
   "source": [
    "import pandas as pd\n",
    "\n",
    "def playlist_dataframe(playlist_link):\n",
    "\n",
    "    playlist_URI = playlist_link.split(\"/\")[-1].split(\"?\")[0]\n",
    "\n",
    "    track_uris = [x[\"track\"][\"uri\"] for x in sp.playlist_tracks(playlist_URI)[\"items\"]] \n",
    "\n",
    "    df = pd.DataFrame(columns=['artist_name','track_name','album_name','release_date','artist_popularity','track_popularity', 'artist_genres','danceability',\n",
    "    'energy','key','loudness','mode','speechiness','acousticness','instrumentalness','liveness','valence','tempo','type','id','uri','track_href','analysis_url',\n",
    "    'duration_ms','time_signature'])\n",
    "\n",
    "\n",
    "\n",
    "    for track in sp.playlist_tracks(playlist_URI)[\"items\"]:\n",
    "\n",
    "        info_vector = []\n",
    "        #URI\n",
    "        track_uri = track[\"track\"][\"uri\"]\n",
    "        \n",
    "        #Track name\n",
    "        track_name = track[\"track\"][\"name\"]\n",
    "        \n",
    "        #Main Artist\n",
    "        artist_uri = track[\"track\"][\"artists\"][0][\"uri\"]\n",
    "        artist_info = sp.artist(artist_uri)\n",
    "        \n",
    "        #Name, popularity, genre\n",
    "        artist_name = track[\"track\"][\"artists\"][0][\"name\"]\n",
    "        artist_pop = artist_info[\"popularity\"]\n",
    "        artist_genres = artist_info[\"genres\"]\n",
    "        \n",
    "        #Album\n",
    "        album = track[\"track\"][\"album\"][\"name\"]\n",
    "        #Release Date\n",
    "        release_date = track['track']['album']['release_date'] ## keep full date \n",
    "\n",
    "        #Popularity of the track\n",
    "        track_pop = track[\"track\"][\"popularity\"]\n",
    "\n",
    "        info_vector = [artist_name,track_name,album,release_date,artist_pop,track_pop,artist_genres]\n",
    "\n",
    "        info_vector.extend(list((sp.audio_features(track_uri)[0].values())))\n",
    "\n",
    "        df.loc[len(df)] = info_vector\n",
    "\n",
    "    return df\n"
   ]
  },
  {
   "cell_type": "code",
   "execution_count": null,
   "metadata": {},
   "outputs": [],
   "source": [
    "todays_top_hits = playlist_dataframe('https://open.spotify.com/playlist/37i9dQZF1DXcBWIGoYBM5M?si=6b87276c523e43a1')"
   ]
  },
  {
   "cell_type": "code",
   "execution_count": null,
   "metadata": {},
   "outputs": [],
   "source": [
    "just_hits = playlist_dataframe('https://open.spotify.com/playlist/37i9dQZF1DXcRXFNfZr7Tp?si=ac2a6d48bf0a4d19')"
   ]
  },
  {
   "cell_type": "code",
   "execution_count": null,
   "metadata": {},
   "outputs": [],
   "source": [
    "all_out_2000s = playlist_dataframe('https://open.spotify.com/playlist/37i9dQZF1DX4o1oenSJRJd?si=8525e823c80c4425')"
   ]
  },
  {
   "cell_type": "code",
   "execution_count": null,
   "metadata": {},
   "outputs": [],
   "source": [
    "all_out_90s = playlist_dataframe('https://open.spotify.com/playlist/37i9dQZF1DXbTxeAdrVG2l?si=a3d1c70be733411a')"
   ]
  },
  {
   "cell_type": "code",
   "execution_count": null,
   "metadata": {},
   "outputs": [],
   "source": [
    "# all_out_80s = playlist_dataframe('https://open.spotify.com/playlist/37i9dQZF1DX4UtSsGT1Sbe?si=66b14e23e8114cd3')"
   ]
  },
  {
   "cell_type": "code",
   "execution_count": null,
   "metadata": {},
   "outputs": [],
   "source": [
    "# all_out_70s = playlist_dataframe('https://open.spotify.com/playlist/37i9dQZF1DWTJ7xPn4vNaz?si=40beba4990f841e6')"
   ]
  },
  {
   "cell_type": "code",
   "execution_count": null,
   "metadata": {},
   "outputs": [],
   "source": [
    "# all_out_60s = playlist_dataframe('https://open.spotify.com/playlist/37i9dQZF1DXaKIA8E7WcJj?si=3f1a13d5220a4bdd')"
   ]
  },
  {
   "cell_type": "code",
   "execution_count": null,
   "metadata": {},
   "outputs": [],
   "source": [
    "soft_pop_hits = playlist_dataframe('https://open.spotify.com/playlist/37i9dQZF1DWTwnEm1IYyoj?si=40673a25b16c4097')"
   ]
  },
  {
   "cell_type": "code",
   "execution_count": null,
   "metadata": {},
   "outputs": [],
   "source": [
    "all_popular_df = pd.concat([todays_top_hits, just_hits, all_out_2000s,all_out_90s,soft_pop_hits], axis = 0)"
   ]
  },
  {
   "cell_type": "code",
   "execution_count": null,
   "metadata": {},
   "outputs": [],
   "source": [
    "all_popular_df.drop_duplicates(subset =\"id\",\n",
    "                     keep = 'first', inplace = True)\n",
    " \n",
    " # removing duplicate entries based on id"
   ]
  },
  {
   "cell_type": "code",
   "execution_count": null,
   "metadata": {},
   "outputs": [],
   "source": [
    "all_popular_df.to_csv('all_popular_csv.csv', index = False)"
   ]
  },
  {
   "cell_type": "code",
   "execution_count": null,
   "metadata": {},
   "outputs": [],
   "source": [
    "spain = playlist_dataframe('https://open.spotify.com/playlist/08FwuC2mWOk78HgL30lvk8?si=4778501cd4e84d14')"
   ]
  },
  {
   "cell_type": "code",
   "execution_count": null,
   "metadata": {},
   "outputs": [
    {
     "data": {
      "text/plain": [
       "'1989-01-01'"
      ]
     },
     "execution_count": 58,
     "metadata": {},
     "output_type": "execute_result"
    }
   ],
   "source": [
    "spain['release_date'].min()"
   ]
  },
  {
   "cell_type": "code",
   "execution_count": null,
   "metadata": {},
   "outputs": [
    {
     "data": {
      "text/plain": [
       "448"
      ]
     },
     "execution_count": 68,
     "metadata": {},
     "output_type": "execute_result"
    }
   ],
   "source": [
    "len(all_popular_df)"
   ]
  },
  {
   "cell_type": "code",
   "execution_count": null,
   "metadata": {},
   "outputs": [],
   "source": [
    "spain"
   ]
  },
  {
   "cell_type": "code",
   "execution_count": null,
   "metadata": {},
   "outputs": [
    {
     "name": "stderr",
     "output_type": "stream",
     "text": [
      "/var/folders/v5/90hqz_xs4ys1hl5xzb98xyh40000gn/T/ipykernel_10635/1190905249.py:1: FutureWarning: Dropping of nuisance columns in DataFrame reductions (with 'numeric_only=None') is deprecated; in a future version this will raise TypeError.  Select only valid columns before calling the reduction.\n",
      "  spain.mean()\n"
     ]
    },
    {
     "data": {
      "text/plain": [
       "artist_popularity        57.218750\n",
       "track_popularity         60.562500\n",
       "danceability              0.741125\n",
       "energy                    0.829875\n",
       "key                       5.562500\n",
       "loudness                 -6.492344\n",
       "mode                      0.781250\n",
       "speechiness               0.082825\n",
       "acousticness              0.150687\n",
       "instrumentalness          0.001882\n",
       "liveness                  0.162247\n",
       "valence                   0.832781\n",
       "tempo                   126.473844\n",
       "duration_ms          222894.968750\n",
       "time_signature            4.000000\n",
       "dtype: float64"
      ]
     },
     "execution_count": 73,
     "metadata": {},
     "output_type": "execute_result"
    }
   ],
   "source": [
    "spain.mean()"
   ]
  },
  {
   "cell_type": "code",
   "execution_count": 19,
   "metadata": {},
   "outputs": [
    {
     "ename": "NameError",
     "evalue": "name 'hit_detector' is not defined",
     "output_type": "error",
     "traceback": [
      "\u001b[0;31m---------------------------------------------------------------------------\u001b[0m",
      "\u001b[0;31mNameError\u001b[0m                                 Traceback (most recent call last)",
      "\u001b[1;32m/Users/ruiferreira/Desktop/Universe/Ironhack/Bootcamp/Projects/Project 5/project5-week6/spotify_api_rui.ipynb Cell 27\u001b[0m in \u001b[0;36m<cell line: 1>\u001b[0;34m()\u001b[0m\n\u001b[0;32m----> <a href='vscode-notebook-cell:/Users/ruiferreira/Desktop/Universe/Ironhack/Bootcamp/Projects/Project%205/project5-week6/spotify_api_rui.ipynb#X46sZmlsZQ%3D%3D?line=0'>1</a>\u001b[0m playlist_dataframe(\u001b[39m'\u001b[39;49m\u001b[39mhttps://open.spotify.com/playlist/08FwuC2mWOk78HgL30lvk8?si=0164c69731784b95\u001b[39;49m\u001b[39m'\u001b[39;49m)\n",
      "\u001b[1;32m/Users/ruiferreira/Desktop/Universe/Ironhack/Bootcamp/Projects/Project 5/project5-week6/spotify_api_rui.ipynb Cell 27\u001b[0m in \u001b[0;36mplaylist_dataframe\u001b[0;34m(playlist_link)\u001b[0m\n\u001b[1;32m     <a href='vscode-notebook-cell:/Users/ruiferreira/Desktop/Universe/Ironhack/Bootcamp/Projects/Project%205/project5-week6/spotify_api_rui.ipynb#X46sZmlsZQ%3D%3D?line=28'>29</a>\u001b[0m     info_vector\u001b[39m.\u001b[39mextend(\u001b[39mlist\u001b[39m((sp\u001b[39m.\u001b[39maudio_features(track_uri)[\u001b[39m0\u001b[39m]\u001b[39m.\u001b[39mvalues())))\n\u001b[1;32m     <a href='vscode-notebook-cell:/Users/ruiferreira/Desktop/Universe/Ironhack/Bootcamp/Projects/Project%205/project5-week6/spotify_api_rui.ipynb#X46sZmlsZQ%3D%3D?line=30'>31</a>\u001b[0m     df\u001b[39m.\u001b[39mloc[\u001b[39mlen\u001b[39m(df)] \u001b[39m=\u001b[39m info_vector\n\u001b[0;32m---> <a href='vscode-notebook-cell:/Users/ruiferreira/Desktop/Universe/Ironhack/Bootcamp/Projects/Project%205/project5-week6/spotify_api_rui.ipynb#X46sZmlsZQ%3D%3D?line=32'>33</a>\u001b[0m     df[[\u001b[39m'\u001b[39m\u001b[39mHit\u001b[39m\u001b[39m'\u001b[39m, \u001b[39m'\u001b[39m\u001b[39mDance_miss\u001b[39m\u001b[39m'\u001b[39m, \u001b[39m'\u001b[39m\u001b[39mEnergy_miss\u001b[39m\u001b[39m'\u001b[39m, \u001b[39m'\u001b[39m\u001b[39mValence_miss\u001b[39m\u001b[39m'\u001b[39m]] \u001b[39m=\u001b[39m df\u001b[39m.\u001b[39mapply(hit_detector,axis \u001b[39m=\u001b[39m \u001b[39m1\u001b[39m, result_type\u001b[39m=\u001b[39m\u001b[39m'\u001b[39m\u001b[39mexpand\u001b[39m\u001b[39m'\u001b[39m)\n\u001b[1;32m     <a href='vscode-notebook-cell:/Users/ruiferreira/Desktop/Universe/Ironhack/Bootcamp/Projects/Project%205/project5-week6/spotify_api_rui.ipynb#X46sZmlsZQ%3D%3D?line=34'>35</a>\u001b[0m \u001b[39mreturn\u001b[39;00m df\n",
      "\u001b[0;31mNameError\u001b[0m: name 'hit_detector' is not defined"
     ]
    }
   ],
   "source": [
    "playlist_dataframe('https://open.spotify.com/playlist/08FwuC2mWOk78HgL30lvk8?si=0164c69731784b95')"
   ]
  },
  {
   "cell_type": "code",
   "execution_count": null,
   "metadata": {},
   "outputs": [],
   "source": []
  }
 ],
 "metadata": {
  "kernelspec": {
   "display_name": "Python 3.9.12 ('julyironhack')",
   "language": "python",
   "name": "python3"
  },
  "language_info": {
   "codemirror_mode": {
    "name": "ipython",
    "version": 3
   },
   "file_extension": ".py",
   "mimetype": "text/x-python",
   "name": "python",
   "nbconvert_exporter": "python",
   "pygments_lexer": "ipython3",
   "version": "3.9.12"
  },
  "orig_nbformat": 4,
  "vscode": {
   "interpreter": {
    "hash": "d4f28bf35b1054d239a9ee1bfa6fb652dd82e0e5a8ae6f2857cd28eda2674f2d"
   }
  }
 },
 "nbformat": 4,
 "nbformat_minor": 2
}
