{
 "cells": [
  {
   "cell_type": "code",
   "execution_count": null,
   "metadata": {},
   "outputs": [],
   "source": [
    "import spotipy\n",
    "from spotipy.oauth2 import SpotifyOAuth\n",
    "import getpass\n",
    "\n",
    "client_id = getpass.getpass()\n",
    "client_secret = getpass.getpass()\n",
    "\n",
    "\n",
    "\n",
    "sp = spotipy.Spotify(auth_manager=SpotifyOAuth(client_id,\n",
    "                                               client_secret,\n",
    "                                               redirect_uri=\"https://localhost:8089/callback\",\n",
    "                                               scope=\"user-library-read\"))\n",
    "\n",
    "\n",
    "\n",
    "results = sp.current_user_saved_tracks() ## here we don't use endpoints (urls basically), and just use sp. and then there are methods\n"
   ]
  }
 ],
 "metadata": {
  "kernelspec": {
   "display_name": "Python 3.9.7 ('base')",
   "language": "python",
   "name": "python3"
  },
  "language_info": {
   "name": "python",
   "version": "3.9.7"
  },
  "orig_nbformat": 4,
  "vscode": {
   "interpreter": {
    "hash": "76912bee8247cc6eaca7ddd452c9bea798971fb28a8d3d491f13d9f038893d1f"
   }
  }
 },
 "nbformat": 4,
 "nbformat_minor": 2
}
