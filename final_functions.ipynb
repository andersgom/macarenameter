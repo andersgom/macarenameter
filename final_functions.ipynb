{
 "cells": [
  {
   "cell_type": "code",
   "execution_count": 41,
   "metadata": {},
   "outputs": [],
   "source": [
    "import spotipy\n",
    "from spotipy.oauth2 import SpotifyOAuth\n",
    "import getpass\n",
    "import pandas as pd\n",
    "import numpy as np\n",
    "\n",
    "\n",
    "client_id = getpass.getpass()\n",
    "client_secret = getpass.getpass()\n",
    "\n",
    "\n",
    "\n",
    "sp = spotipy.Spotify(auth_manager=SpotifyOAuth(client_id,\n",
    "                                               client_secret,\n",
    "                                               redirect_uri=\"https://localhost:8089/callback\",\n",
    "                                               scope=\"user-library-read\"))\n",
    "\n",
    "\n",
    "\n",
    "results = sp.current_user_saved_tracks() ## here we don't use endpoints (urls basically), and just use sp. and then there are methods\n",
    "\n"
   ]
  },
  {
   "cell_type": "code",
   "execution_count": 42,
   "metadata": {},
   "outputs": [],
   "source": [
    "spain = pd.read_csv('spain_summer_songs.csv')"
   ]
  },
  {
   "cell_type": "code",
   "execution_count": 56,
   "metadata": {},
   "outputs": [
    {
     "name": "stdout",
     "output_type": "stream",
     "text": [
      "danceability\n",
      "energy\n",
      "loudness\n",
      "liveness\n",
      "valence\n",
      "tempo\n",
      "[0.7782801797502868, 0.8739534069249884, -5.4469988978542085, 0.22214699667020965, 0.8787460500560335, 134.81486842443496]\n",
      "[0.7039698202497134, 0.7857965930750119, -7.537688602145791, 0.10234675332979039, 0.7868164499439664, 118.13281907556507]\n"
     ]
    }
   ],
   "source": [
    "import scipy.stats as st\n",
    "\n",
    "spain_feat = spain[['danceability', 'energy', 'key', 'loudness', 'mode', 'speechiness', 'liveness', 'valence', 'tempo']]\n",
    "conf_intervals = pd.DataFrame(columns=['trait', 'bottom', 'top'])\n",
    "\n",
    "\n",
    "traits = ['danceability', 'energy', 'loudness', 'liveness', 'valence', 'tempo']\n",
    "n= len(spain_feat)\n",
    "\n",
    "cibot = []\n",
    "citop = []\n",
    "for feat in traits:\n",
    "    mean_ = spain_feat[feat].mean()\n",
    "    s = spain_feat[feat].std(ddof=0)\n",
    "    print(feat)\n",
    "    cibot.append(st.norm.interval(0.95, loc=mean_, scale=s/np.sqrt(n))[0])\n",
    "    citop.append(st.norm.interval(0.95, loc=mean_, scale=s/np.sqrt(n))[1])\n",
    "print(citop)\n",
    "print(cibot)\n",
    "\n",
    "conf_intervals['trait'] = traits\n",
    "conf_intervals['bottom'] = cibot\n",
    "conf_intervals['top'] = citop\n",
    "\n",
    "conf_intervals.to_csv('confidence_intervals.csv')"
   ]
  },
  {
   "cell_type": "code",
   "execution_count": 58,
   "metadata": {},
   "outputs": [
    {
     "data": {
      "text/html": [
       "<div>\n",
       "<style scoped>\n",
       "    .dataframe tbody tr th:only-of-type {\n",
       "        vertical-align: middle;\n",
       "    }\n",
       "\n",
       "    .dataframe tbody tr th {\n",
       "        vertical-align: top;\n",
       "    }\n",
       "\n",
       "    .dataframe thead th {\n",
       "        text-align: right;\n",
       "    }\n",
       "</style>\n",
       "<table border=\"1\" class=\"dataframe\">\n",
       "  <thead>\n",
       "    <tr style=\"text-align: right;\">\n",
       "      <th></th>\n",
       "      <th>bottom</th>\n",
       "      <th>top</th>\n",
       "    </tr>\n",
       "    <tr>\n",
       "      <th>trait</th>\n",
       "      <th></th>\n",
       "      <th></th>\n",
       "    </tr>\n",
       "  </thead>\n",
       "  <tbody>\n",
       "    <tr>\n",
       "      <th>danceability</th>\n",
       "      <td>0.703970</td>\n",
       "      <td>0.778280</td>\n",
       "    </tr>\n",
       "    <tr>\n",
       "      <th>energy</th>\n",
       "      <td>0.785797</td>\n",
       "      <td>0.873953</td>\n",
       "    </tr>\n",
       "    <tr>\n",
       "      <th>loudness</th>\n",
       "      <td>-7.537689</td>\n",
       "      <td>-5.446999</td>\n",
       "    </tr>\n",
       "    <tr>\n",
       "      <th>liveness</th>\n",
       "      <td>0.102347</td>\n",
       "      <td>0.222147</td>\n",
       "    </tr>\n",
       "    <tr>\n",
       "      <th>valence</th>\n",
       "      <td>0.786816</td>\n",
       "      <td>0.878746</td>\n",
       "    </tr>\n",
       "    <tr>\n",
       "      <th>tempo</th>\n",
       "      <td>118.132819</td>\n",
       "      <td>134.814868</td>\n",
       "    </tr>\n",
       "  </tbody>\n",
       "</table>\n",
       "</div>"
      ],
      "text/plain": [
       "                  bottom         top\n",
       "trait                               \n",
       "danceability    0.703970    0.778280\n",
       "energy          0.785797    0.873953\n",
       "loudness       -7.537689   -5.446999\n",
       "liveness        0.102347    0.222147\n",
       "valence         0.786816    0.878746\n",
       "tempo         118.132819  134.814868"
      ]
     },
     "execution_count": 58,
     "metadata": {},
     "output_type": "execute_result"
    }
   ],
   "source": [
    "conf_intervals.set_index('trait',inplace= True)\n",
    "conf_intervals"
   ]
  },
  {
   "cell_type": "code",
   "execution_count": 60,
   "metadata": {},
   "outputs": [],
   "source": [
    "conf_intervals.to_csv('confidence_intervals.csv')"
   ]
  },
  {
   "cell_type": "code",
   "execution_count": null,
   "metadata": {},
   "outputs": [],
   "source": []
  }
 ],
 "metadata": {
  "kernelspec": {
   "display_name": "Python 3.9.12 ('julyironhack')",
   "language": "python",
   "name": "python3"
  },
  "language_info": {
   "codemirror_mode": {
    "name": "ipython",
    "version": 3
   },
   "file_extension": ".py",
   "mimetype": "text/x-python",
   "name": "python",
   "nbconvert_exporter": "python",
   "pygments_lexer": "ipython3",
   "version": "3.9.12"
  },
  "orig_nbformat": 4,
  "vscode": {
   "interpreter": {
    "hash": "d4f28bf35b1054d239a9ee1bfa6fb652dd82e0e5a8ae6f2857cd28eda2674f2d"
   }
  }
 },
 "nbformat": 4,
 "nbformat_minor": 2
}
