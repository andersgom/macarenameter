{
 "cells": [
  {
   "cell_type": "code",
   "execution_count": 64,
   "metadata": {},
   "outputs": [],
   "source": [
    "import pandas as pd\n",
    "import matplotlib.pyplot as plt\n",
    "import scipy.stats as st\n",
    "import numpy as np"
   ]
  },
  {
   "cell_type": "code",
   "execution_count": 41,
   "metadata": {},
   "outputs": [],
   "source": [
    "spain = pd.read_csv('spain_summer_songs.csv')\n",
    "rest = pd.read_csv('all_popular_csv.csv')"
   ]
  },
  {
   "cell_type": "code",
   "execution_count": 42,
   "metadata": {},
   "outputs": [],
   "source": [
    "spain.head()\n",
    "spain_feat = spain[['danceability', 'energy', 'key', 'loudness', 'mode', 'speechiness', 'liveness', 'valence', 'tempo']]\n",
    "rest_feat = rest[['danceability', 'energy', 'key', 'loudness', 'mode', 'speechiness', 'liveness', 'valence', 'tempo']]"
   ]
  },
  {
   "cell_type": "code",
   "execution_count": 43,
   "metadata": {},
   "outputs": [
    {
     "data": {
      "text/plain": [
       "danceability      0.741125\n",
       "energy            0.829875\n",
       "key               5.562500\n",
       "loudness         -6.492344\n",
       "mode              0.781250\n",
       "speechiness       0.082825\n",
       "liveness          0.162247\n",
       "valence           0.832781\n",
       "tempo           126.473844\n",
       "dtype: float64"
      ]
     },
     "execution_count": 43,
     "metadata": {},
     "output_type": "execute_result"
    }
   ],
   "source": [
    "spain_feat.mean()"
   ]
  },
  {
   "cell_type": "code",
   "execution_count": 55,
   "metadata": {},
   "outputs": [
    {
     "data": {
      "text/plain": [
       "0    11\n",
       "Name: key, dtype: int64"
      ]
     },
     "execution_count": 55,
     "metadata": {},
     "output_type": "execute_result"
    }
   ],
   "source": [
    "spain_feat['key'].mode()"
   ]
  },
  {
   "cell_type": "code",
   "execution_count": 56,
   "metadata": {},
   "outputs": [
    {
     "data": {
      "text/plain": [
       "0    1\n",
       "Name: key, dtype: int64"
      ]
     },
     "execution_count": 56,
     "metadata": {},
     "output_type": "execute_result"
    }
   ],
   "source": [
    "rest_feat['key'].mode()"
   ]
  },
  {
   "cell_type": "code",
   "execution_count": 45,
   "metadata": {},
   "outputs": [],
   "source": [
    "### Tukey Post Hoc Test\n",
    "### https://www.statology.org/tukey-test-python/"
   ]
  },
  {
   "cell_type": "code",
   "execution_count": null,
   "metadata": {},
   "outputs": [],
   "source": [
    "def scatters(x,y):\n",
    "\n",
    "    plt.figure(figsize=(8, 8), dpi=80)\n",
    "\n",
    "    plt.scatter(spain_feat[x],spain_feat[y])\n",
    "\n",
    "    plt.xlabel(x)\n",
    "    plt.ylabel(y)\n",
    "\n",
    "    plt.show()\n",
    "\n",
    "lst = ['danceability','energy','loudness','speechiness','liveness','valence']\n",
    "\n",
    "\n",
    "for item in range(len(lst)):\n",
    "    for trait in lst:\n",
    "\n",
    "        if lst[item] == trait:\n",
    "            continue\n",
    "\n",
    "        else:\n",
    "            scatters(lst[item],trait)\n",
    "            plt.show()"
   ]
  },
  {
   "cell_type": "code",
   "execution_count": 47,
   "metadata": {},
   "outputs": [
    {
     "name": "stdout",
     "output_type": "stream",
     "text": [
      "danceability\n"
     ]
    },
    {
     "data": {
      "image/png": "[encoded data removed]",
      "text/plain": [
       "<Figure size 432x288 with 1 Axes>"
      ]
     },
     "metadata": {
      "needs_background": "light"
     },
     "output_type": "display_data"
    },
    {
     "name": "stdout",
     "output_type": "stream",
     "text": [
      "energy\n"
     ]
    },
    {
     "data": {
      "image/png": "[encoded data removed]",
      "text/plain": [
       "<Figure size 432x288 with 1 Axes>"
      ]
     },
     "metadata": {
      "needs_background": "light"
     },
     "output_type": "display_data"
    },
    {
     "name": "stdout",
     "output_type": "stream",
     "text": [
      "key\n"
     ]
    },
    {
     "data": {
      "image/png": "[encoded data removed]",
      "text/plain": [
       "<Figure size 432x288 with 1 Axes>"
      ]
     },
     "metadata": {
      "needs_background": "light"
     },
     "output_type": "display_data"
    },
    {
     "name": "stdout",
     "output_type": "stream",
     "text": [
      "loudness\n"
     ]
    },
    {
     "data": {
      "image/png": "[encoded data removed]",
      "text/plain": [
       "<Figure size 432x288 with 1 Axes>"
      ]
     },
     "metadata": {
      "needs_background": "light"
     },
     "output_type": "display_data"
    },
    {
     "name": "stdout",
     "output_type": "stream",
     "text": [
      "mode\n"
     ]
    },
    {
     "data": {
      "image/png": "[encoded data removed]",
      "text/plain": [
       "<Figure size 432x288 with 1 Axes>"
      ]
     },
     "metadata": {
      "needs_background": "light"
     },
     "output_type": "display_data"
    },
    {
     "name": "stdout",
     "output_type": "stream",
     "text": [
      "speechiness\n"
     ]
    },
    {
     "data": {
      "image/png": "[encoded data removed]",
      "text/plain": [
       "<Figure size 432x288 with 1 Axes>"
      ]
     },
     "metadata": {
      "needs_background": "light"
     },
     "output_type": "display_data"
    },
    {
     "name": "stdout",
     "output_type": "stream",
     "text": [
      "liveness\n"
     ]
    },
    {
     "data": {
      "image/png": "[encoded data removed]",
      "text/plain": [
       "<Figure size 432x288 with 1 Axes>"
      ]
     },
     "metadata": {
      "needs_background": "light"
     },
     "output_type": "display_data"
    },
    {
     "name": "stdout",
     "output_type": "stream",
     "text": [
      "valence\n"
     ]
    },
    {
     "data": {
      "image/png": "[encoded data removed]",
      "text/plain": [
       "<Figure size 432x288 with 1 Axes>"
      ]
     },
     "metadata": {
      "needs_background": "light"
     },
     "output_type": "display_data"
    },
    {
     "name": "stdout",
     "output_type": "stream",
     "text": [
      "tempo\n"
     ]
    },
    {
     "data": {
      "image/png": "[encoded data removed]",
      "text/plain": [
       "<Figure size 432x288 with 1 Axes>"
      ]
     },
     "metadata": {
      "needs_background": "light"
     },
     "output_type": "display_data"
    }
   ],
   "source": [
    "list = ['danceability', 'energy', 'key', 'loudness', 'mode', 'speechiness', 'liveness', 'valence', 'tempo']\n",
    "spain_feat\n",
    "\n",
    "for feat in list:\n",
    "    print(feat)\n",
    "    plt.axvline(x=spain_feat[feat].mean(), color='r', linestyle='-')\n",
    "    plt.axvline(x=spain_feat[feat].median(), color='g', linestyle='-')\n",
    "    plt.hist(spain_feat[feat], bins=20)\n",
    "    plt.show()"
   ]
  },
  {
   "cell_type": "code",
   "execution_count": 108,
   "metadata": {},
   "outputs": [
    {
     "name": "stdout",
     "output_type": "stream",
     "text": [
      "danceability\n",
      "4.435866098459822 7.157313403127343e-05\n",
      "True \n",
      "\n",
      "energy\n",
      "6.199793395856607 2.5885858879437507e-07\n",
      "True \n",
      "\n",
      "loudness\n",
      "0.07479082040970564 0.9408167985279402\n",
      "False \n",
      "\n",
      "liveness\n",
      "-0.4117073266866171 0.6831537675712909\n",
      "False \n",
      "\n",
      "mode\n",
      "2.0394765421743766 0.048558637731806194\n",
      "True \n",
      "\n",
      "valence\n",
      "10.83144823409055 2.913488003841558e-14\n",
      "True \n",
      "\n",
      "tempo\n",
      "1.5927643257237205 0.11987729896797804\n",
      "False \n",
      "\n"
     ]
    }
   ],
   "source": [
    "# danceability, energy, loudness, liveness, valence, tempo\n",
    "\n",
    "#H0 : mu of features spain = mu of features popular\n",
    "#H1 : mu of features spain != mu of features popular\n",
    "\n",
    "alpha = 0.05\n",
    "\n",
    "list = ['danceability', 'energy', 'loudness', 'liveness', 'mode', 'valence', 'tempo']\n",
    "for feat in list:\n",
    "    print(feat)\n",
    "    _, p_value = st.ttest_ind(spain_feat[feat], rest_feat[feat], equal_var=False)\n",
    "    print(_, p_value)\n",
    "    print(p_value<alpha, '\\n')"
   ]
  },
  {
   "cell_type": "code",
   "execution_count": 61,
   "metadata": {},
   "outputs": [
    {
     "data": {
      "text/plain": [
       "0.722"
      ]
     },
     "execution_count": 61,
     "metadata": {},
     "output_type": "execute_result"
    }
   ],
   "source": [
    "rest_feat['valence'][3]"
   ]
  },
  {
   "cell_type": "code",
   "execution_count": 101,
   "metadata": {},
   "outputs": [
    {
     "name": "stdout",
     "output_type": "stream",
     "text": [
      "danceability\n",
      "energy\n",
      "loudness\n",
      "liveness\n",
      "mode\n",
      "valence\n",
      "tempo\n",
      "[0.7782801797502868, 0.8739534069249884, -5.4469988978542085, 0.22214699667020965, 0.9244826898547887, 0.8787460500560335, 134.81486842443496]\n",
      "[0.7039698202497134, 0.7857965930750119, -7.537688602145791, 0.10234675332979039, 0.6380173101452113, 0.7868164499439664, 118.13281907556507]\n"
     ]
    },
    {
     "data": {
      "text/html": [
       "<div>\n",
       "<style scoped>\n",
       "    .dataframe tbody tr th:only-of-type {\n",
       "        vertical-align: middle;\n",
       "    }\n",
       "\n",
       "    .dataframe tbody tr th {\n",
       "        vertical-align: top;\n",
       "    }\n",
       "\n",
       "    .dataframe thead th {\n",
       "        text-align: right;\n",
       "    }\n",
       "</style>\n",
       "<table border=\"1\" class=\"dataframe\">\n",
       "  <thead>\n",
       "    <tr style=\"text-align: right;\">\n",
       "      <th></th>\n",
       "      <th>trait</th>\n",
       "      <th>bottom</th>\n",
       "      <th>top</th>\n",
       "    </tr>\n",
       "  </thead>\n",
       "  <tbody>\n",
       "    <tr>\n",
       "      <th>0</th>\n",
       "      <td>danceability</td>\n",
       "      <td>0.703970</td>\n",
       "      <td>0.778280</td>\n",
       "    </tr>\n",
       "    <tr>\n",
       "      <th>1</th>\n",
       "      <td>energy</td>\n",
       "      <td>0.785797</td>\n",
       "      <td>0.873953</td>\n",
       "    </tr>\n",
       "    <tr>\n",
       "      <th>2</th>\n",
       "      <td>loudness</td>\n",
       "      <td>-7.537689</td>\n",
       "      <td>-5.446999</td>\n",
       "    </tr>\n",
       "    <tr>\n",
       "      <th>3</th>\n",
       "      <td>liveness</td>\n",
       "      <td>0.102347</td>\n",
       "      <td>0.222147</td>\n",
       "    </tr>\n",
       "    <tr>\n",
       "      <th>4</th>\n",
       "      <td>mode</td>\n",
       "      <td>0.638017</td>\n",
       "      <td>0.924483</td>\n",
       "    </tr>\n",
       "    <tr>\n",
       "      <th>5</th>\n",
       "      <td>valence</td>\n",
       "      <td>0.786816</td>\n",
       "      <td>0.878746</td>\n",
       "    </tr>\n",
       "    <tr>\n",
       "      <th>6</th>\n",
       "      <td>tempo</td>\n",
       "      <td>118.132819</td>\n",
       "      <td>134.814868</td>\n",
       "    </tr>\n",
       "  </tbody>\n",
       "</table>\n",
       "</div>"
      ],
      "text/plain": [
       "          trait      bottom         top\n",
       "0  danceability    0.703970    0.778280\n",
       "1        energy    0.785797    0.873953\n",
       "2      loudness   -7.537689   -5.446999\n",
       "3      liveness    0.102347    0.222147\n",
       "4          mode    0.638017    0.924483\n",
       "5       valence    0.786816    0.878746\n",
       "6         tempo  118.132819  134.814868"
      ]
     },
     "execution_count": 101,
     "metadata": {},
     "output_type": "execute_result"
    }
   ],
   "source": [
    "## Confidence interval\n",
    "\n",
    "conf_intervals = pd.DataFrame(columns=['trait', 'bottom', 'top'])\n",
    "\n",
    "\n",
    "traits = ['danceability', 'energy', 'loudness', 'liveness', 'mode', 'valence', 'tempo']\n",
    "n= len(spain_feat)\n",
    "\n",
    "cibot = []\n",
    "citop = []\n",
    "for feat in traits:\n",
    "    mean_ = spain_feat[feat].mean()\n",
    "    s = spain_feat[feat].std(ddof=0)\n",
    "    print(feat)\n",
    "    cibot.append(st.norm.interval(0.95, loc=mean_, scale=s/np.sqrt(n))[0])\n",
    "    citop.append(st.norm.interval(0.95, loc=mean_, scale=s/np.sqrt(n))[1])\n",
    "print(citop)\n",
    "print(cibot)\n",
    "\n",
    "conf_intervals['trait'] = traits\n",
    "conf_intervals['bottom'] = cibot\n",
    "conf_intervals['top'] = citop\n",
    "\n",
    "conf_intervals\n"
   ]
  },
  {
   "cell_type": "code",
   "execution_count": 79,
   "metadata": {},
   "outputs": [
    {
     "data": {
      "text/html": [
       "<div>\n",
       "<style scoped>\n",
       "    .dataframe tbody tr th:only-of-type {\n",
       "        vertical-align: middle;\n",
       "    }\n",
       "\n",
       "    .dataframe tbody tr th {\n",
       "        vertical-align: top;\n",
       "    }\n",
       "\n",
       "    .dataframe thead th {\n",
       "        text-align: right;\n",
       "    }\n",
       "</style>\n",
       "<table border=\"1\" class=\"dataframe\">\n",
       "  <thead>\n",
       "    <tr style=\"text-align: right;\">\n",
       "      <th></th>\n",
       "      <th>artist_name</th>\n",
       "      <th>track_name</th>\n",
       "      <th>album_name</th>\n",
       "      <th>release_date</th>\n",
       "      <th>artist_popularity</th>\n",
       "      <th>track_popularity</th>\n",
       "      <th>artist_genres</th>\n",
       "      <th>danceability</th>\n",
       "      <th>energy</th>\n",
       "      <th>key</th>\n",
       "      <th>...</th>\n",
       "      <th>liveness</th>\n",
       "      <th>valence</th>\n",
       "      <th>tempo</th>\n",
       "      <th>type</th>\n",
       "      <th>id</th>\n",
       "      <th>uri</th>\n",
       "      <th>track_href</th>\n",
       "      <th>analysis_url</th>\n",
       "      <th>duration_ms</th>\n",
       "      <th>time_signature</th>\n",
       "    </tr>\n",
       "  </thead>\n",
       "  <tbody>\n",
       "    <tr>\n",
       "      <th>0</th>\n",
       "      <td>Harry Styles</td>\n",
       "      <td>As It Was</td>\n",
       "      <td>As It Was</td>\n",
       "      <td>2022-03-31</td>\n",
       "      <td>92</td>\n",
       "      <td>97</td>\n",
       "      <td>['pop']</td>\n",
       "      <td>0.52</td>\n",
       "      <td>0.731</td>\n",
       "      <td>6</td>\n",
       "      <td>...</td>\n",
       "      <td>0.311</td>\n",
       "      <td>0.662</td>\n",
       "      <td>173.93</td>\n",
       "      <td>audio_features</td>\n",
       "      <td>4LRPiXqCikLlN15c3yImP7</td>\n",
       "      <td>spotify:track:4LRPiXqCikLlN15c3yImP7</td>\n",
       "      <td>https://api.spotify.com/v1/tracks/4LRPiXqCikLl...</td>\n",
       "      <td>https://api.spotify.com/v1/audio-analysis/4LRP...</td>\n",
       "      <td>167303</td>\n",
       "      <td>4</td>\n",
       "    </tr>\n",
       "  </tbody>\n",
       "</table>\n",
       "<p>1 rows × 25 columns</p>\n",
       "</div>"
      ],
      "text/plain": [
       "    artist_name track_name album_name release_date  artist_popularity  \\\n",
       "0  Harry Styles  As It Was  As It Was   2022-03-31                 92   \n",
       "\n",
       "   track_popularity artist_genres  danceability  energy  key  ...  liveness  \\\n",
       "0                97       ['pop']          0.52   0.731    6  ...     0.311   \n",
       "\n",
       "   valence   tempo            type                      id  \\\n",
       "0    0.662  173.93  audio_features  4LRPiXqCikLlN15c3yImP7   \n",
       "\n",
       "                                    uri  \\\n",
       "0  spotify:track:4LRPiXqCikLlN15c3yImP7   \n",
       "\n",
       "                                          track_href  \\\n",
       "0  https://api.spotify.com/v1/tracks/4LRPiXqCikLl...   \n",
       "\n",
       "                                        analysis_url duration_ms  \\\n",
       "0  https://api.spotify.com/v1/audio-analysis/4LRP...      167303   \n",
       "\n",
       "  time_signature  \n",
       "0              4  \n",
       "\n",
       "[1 rows x 25 columns]"
      ]
     },
     "execution_count": 79,
     "metadata": {},
     "output_type": "execute_result"
    }
   ],
   "source": [
    "rest.head(1)"
   ]
  },
  {
   "cell_type": "code",
   "execution_count": 85,
   "metadata": {},
   "outputs": [
    {
     "data": {
      "text/html": [
       "<div>\n",
       "<style scoped>\n",
       "    .dataframe tbody tr th:only-of-type {\n",
       "        vertical-align: middle;\n",
       "    }\n",
       "\n",
       "    .dataframe tbody tr th {\n",
       "        vertical-align: top;\n",
       "    }\n",
       "\n",
       "    .dataframe thead th {\n",
       "        text-align: right;\n",
       "    }\n",
       "</style>\n",
       "<table border=\"1\" class=\"dataframe\">\n",
       "  <thead>\n",
       "    <tr style=\"text-align: right;\">\n",
       "      <th></th>\n",
       "      <th>artist_name</th>\n",
       "      <th>track_name</th>\n",
       "      <th>album_name</th>\n",
       "      <th>release_date</th>\n",
       "      <th>artist_popularity</th>\n",
       "      <th>track_popularity</th>\n",
       "      <th>artist_genres</th>\n",
       "      <th>danceability</th>\n",
       "      <th>energy</th>\n",
       "      <th>key</th>\n",
       "      <th>...</th>\n",
       "      <th>liveness</th>\n",
       "      <th>valence</th>\n",
       "      <th>tempo</th>\n",
       "      <th>type</th>\n",
       "      <th>id</th>\n",
       "      <th>uri</th>\n",
       "      <th>track_href</th>\n",
       "      <th>analysis_url</th>\n",
       "      <th>duration_ms</th>\n",
       "      <th>time_signature</th>\n",
       "    </tr>\n",
       "  </thead>\n",
       "  <tbody>\n",
       "    <tr>\n",
       "      <th>1</th>\n",
       "      <td>Kate Bush</td>\n",
       "      <td>Running Up That Hill (A Deal With God) - 2018 ...</td>\n",
       "      <td>Hounds of Love (2018 Remaster)</td>\n",
       "      <td>1985-09-16</td>\n",
       "      <td>82</td>\n",
       "      <td>91</td>\n",
       "      <td>['art pop', 'art rock', 'baroque pop', 'new wa...</td>\n",
       "      <td>0.625</td>\n",
       "      <td>0.533</td>\n",
       "      <td>10</td>\n",
       "      <td>...</td>\n",
       "      <td>0.0546</td>\n",
       "      <td>0.139</td>\n",
       "      <td>108.296</td>\n",
       "      <td>audio_features</td>\n",
       "      <td>29d0nY7TzCoi22XBqDQkiP</td>\n",
       "      <td>spotify:track:29d0nY7TzCoi22XBqDQkiP</td>\n",
       "      <td>https://api.spotify.com/v1/tracks/29d0nY7TzCoi...</td>\n",
       "      <td>https://api.spotify.com/v1/audio-analysis/29d0...</td>\n",
       "      <td>300840</td>\n",
       "      <td>4</td>\n",
       "    </tr>\n",
       "  </tbody>\n",
       "</table>\n",
       "<p>1 rows × 25 columns</p>\n",
       "</div>"
      ],
      "text/plain": [
       "  artist_name                                         track_name  \\\n",
       "1   Kate Bush  Running Up That Hill (A Deal With God) - 2018 ...   \n",
       "\n",
       "                       album_name release_date  artist_popularity  \\\n",
       "1  Hounds of Love (2018 Remaster)   1985-09-16                 82   \n",
       "\n",
       "   track_popularity                                      artist_genres  \\\n",
       "1                91  ['art pop', 'art rock', 'baroque pop', 'new wa...   \n",
       "\n",
       "   danceability  energy  key  ...  liveness  valence    tempo            type  \\\n",
       "1         0.625   0.533   10  ...    0.0546    0.139  108.296  audio_features   \n",
       "\n",
       "                       id                                   uri  \\\n",
       "1  29d0nY7TzCoi22XBqDQkiP  spotify:track:29d0nY7TzCoi22XBqDQkiP   \n",
       "\n",
       "                                          track_href  \\\n",
       "1  https://api.spotify.com/v1/tracks/29d0nY7TzCoi...   \n",
       "\n",
       "                                        analysis_url duration_ms  \\\n",
       "1  https://api.spotify.com/v1/audio-analysis/29d0...      300840   \n",
       "\n",
       "  time_signature  \n",
       "1              4  \n",
       "\n",
       "[1 rows x 25 columns]"
      ]
     },
     "execution_count": 85,
     "metadata": {},
     "output_type": "execute_result"
    }
   ],
   "source": [
    "rest.loc[[1]]"
   ]
  },
  {
   "cell_type": "code",
   "execution_count": 100,
   "metadata": {},
   "outputs": [
    {
     "ename": "ValueError",
     "evalue": "0 is not in list",
     "output_type": "error",
     "traceback": [
      "\u001b[1;31m---------------------------------------------------------------------------\u001b[0m",
      "\u001b[1;31mValueError\u001b[0m                                Traceback (most recent call last)",
      "\u001b[1;32mc:\\Users\\asgom\\Desktop\\Mis Documentos\\Ironhack Bootcamp\\Bootcamp\\Week 6\\project5-week6\\song_analysis.ipynb Celda 15\u001b[0m in \u001b[0;36m<cell line: 15>\u001b[1;34m()\u001b[0m\n\u001b[0;32m     <a href='vscode-notebook-cell:/c%3A/Users/asgom/Desktop/Mis%20Documentos/Ironhack%20Bootcamp/Bootcamp/Week%206/project5-week6/song_analysis.ipynb#X23sZmlsZQ%3D%3D?line=11'>12</a>\u001b[0m         \u001b[39melse\u001b[39;00m:\n\u001b[0;32m     <a href='vscode-notebook-cell:/c%3A/Users/asgom/Desktop/Mis%20Documentos/Ironhack%20Bootcamp/Bootcamp/Week%206/project5-week6/song_analysis.ipynb#X23sZmlsZQ%3D%3D?line=12'>13</a>\u001b[0m             \u001b[39mprint\u001b[39m(\u001b[39m'\u001b[39m\u001b[39mhello\u001b[39m\u001b[39m'\u001b[39m)\n\u001b[1;32m---> <a href='vscode-notebook-cell:/c%3A/Users/asgom/Desktop/Mis%20Documentos/Ironhack%20Bootcamp/Bootcamp/Week%206/project5-week6/song_analysis.ipynb#X23sZmlsZQ%3D%3D?line=14'>15</a>\u001b[0m hit_detector(song)\n",
      "\u001b[1;32mc:\\Users\\asgom\\Desktop\\Mis Documentos\\Ironhack Bootcamp\\Bootcamp\\Week 6\\project5-week6\\song_analysis.ipynb Celda 15\u001b[0m in \u001b[0;36mhit_detector\u001b[1;34m(song)\u001b[0m\n\u001b[0;32m      <a href='vscode-notebook-cell:/c%3A/Users/asgom/Desktop/Mis%20Documentos/Ironhack%20Bootcamp/Bootcamp/Week%206/project5-week6/song_analysis.ipynb#X23sZmlsZQ%3D%3D?line=6'>7</a>\u001b[0m \u001b[39mdef\u001b[39;00m \u001b[39mhit_detector\u001b[39m(song):\n\u001b[0;32m      <a href='vscode-notebook-cell:/c%3A/Users/asgom/Desktop/Mis%20Documentos/Ironhack%20Bootcamp/Bootcamp/Week%206/project5-week6/song_analysis.ipynb#X23sZmlsZQ%3D%3D?line=7'>8</a>\u001b[0m     \u001b[39mfor\u001b[39;00m trait \u001b[39min\u001b[39;00m \u001b[39mrange\u001b[39m(\u001b[39mlen\u001b[39m(traits)):\n\u001b[1;32m----> <a href='vscode-notebook-cell:/c%3A/Users/asgom/Desktop/Mis%20Documentos/Ironhack%20Bootcamp/Bootcamp/Week%206/project5-week6/song_analysis.ipynb#X23sZmlsZQ%3D%3D?line=8'>9</a>\u001b[0m         \u001b[39mif\u001b[39;00m (rest[traits[trait]][trait] \u001b[39m>\u001b[39m conf_intervals[\u001b[39m'\u001b[39m\u001b[39mbottom\u001b[39m\u001b[39m'\u001b[39m][traits\u001b[39m.\u001b[39;49mindex(trait)])\u001b[39m&\u001b[39m(rest[traits[trait]][trait] \u001b[39m<\u001b[39m conf_intervals[\u001b[39m'\u001b[39m\u001b[39mtop\u001b[39m\u001b[39m'\u001b[39m][traits\u001b[39m.\u001b[39mindex(trait)]):\n\u001b[0;32m     <a href='vscode-notebook-cell:/c%3A/Users/asgom/Desktop/Mis%20Documentos/Ironhack%20Bootcamp/Bootcamp/Week%206/project5-week6/song_analysis.ipynb#X23sZmlsZQ%3D%3D?line=9'>10</a>\u001b[0m             hit_score \u001b[39m+\u001b[39m\u001b[39m=\u001b[39m \u001b[39m1\u001b[39m\n\u001b[0;32m     <a href='vscode-notebook-cell:/c%3A/Users/asgom/Desktop/Mis%20Documentos/Ironhack%20Bootcamp/Bootcamp/Week%206/project5-week6/song_analysis.ipynb#X23sZmlsZQ%3D%3D?line=10'>11</a>\u001b[0m             \u001b[39mprint\u001b[39m(hit_score)\n",
      "\u001b[1;31mValueError\u001b[0m: 0 is not in list"
     ]
    }
   ],
   "source": [
    "traits = ['danceability', 'energy', 'loudness', 'liveness', 'valence', 'tempo']\n",
    "\n",
    "song = rest.loc[[1]]\n",
    "conf_intervals\n",
    "hit_score = 0\n",
    "\n",
    "def hit_detector(song):\n",
    "    for trait in range(len(traits)):\n",
    "        if (rest[traits[trait]][trait] > conf_intervals['bottom'][traits.index(trait)])&(rest[traits[trait]][trait] < conf_intervals['top'][traits.index(trait)]):\n",
    "            hit_score += 1\n",
    "            print(hit_score)\n",
    "        else:\n",
    "            print('hello')\n",
    "\n",
    "hit_detector(song)\n"
   ]
  },
  {
   "cell_type": "code",
   "execution_count": 107,
   "metadata": {},
   "outputs": [
    {
     "name": "stderr",
     "output_type": "stream",
     "text": [
      "C:\\Users\\asgom\\AppData\\Local\\Temp\\ipykernel_6288\\1769409363.py:1: UserWarning: Boolean Series key will be reindexed to match DataFrame index.\n",
      "  rest[rest[rest['id'].value_counts() > 1]]\n"
     ]
    },
    {
     "ename": "IndexingError",
     "evalue": "Unalignable boolean Series provided as indexer (index of the boolean Series and of the indexed object do not match).",
     "output_type": "error",
     "traceback": [
      "\u001b[1;31m---------------------------------------------------------------------------\u001b[0m",
      "\u001b[1;31mIndexingError\u001b[0m                             Traceback (most recent call last)",
      "\u001b[1;32mc:\\Users\\asgom\\Desktop\\Mis Documentos\\Ironhack Bootcamp\\Bootcamp\\Week 6\\project5-week6\\song_analysis.ipynb Celda 16\u001b[0m in \u001b[0;36m<cell line: 1>\u001b[1;34m()\u001b[0m\n\u001b[1;32m----> <a href='vscode-notebook-cell:/c%3A/Users/asgom/Desktop/Mis%20Documentos/Ironhack%20Bootcamp/Bootcamp/Week%206/project5-week6/song_analysis.ipynb#X26sZmlsZQ%3D%3D?line=0'>1</a>\u001b[0m rest[rest[rest[\u001b[39m'\u001b[39;49m\u001b[39mid\u001b[39;49m\u001b[39m'\u001b[39;49m]\u001b[39m.\u001b[39;49mvalue_counts() \u001b[39m>\u001b[39;49m \u001b[39m1\u001b[39;49m]]\n",
      "File \u001b[1;32mc:\\Users\\asgom\\anaconda3\\envs\\ironhack\\lib\\site-packages\\pandas\\core\\frame.py:3496\u001b[0m, in \u001b[0;36mDataFrame.__getitem__\u001b[1;34m(self, key)\u001b[0m\n\u001b[0;32m   3494\u001b[0m \u001b[39m# Do we have a (boolean) 1d indexer?\u001b[39;00m\n\u001b[0;32m   3495\u001b[0m \u001b[39mif\u001b[39;00m com\u001b[39m.\u001b[39mis_bool_indexer(key):\n\u001b[1;32m-> 3496\u001b[0m     \u001b[39mreturn\u001b[39;00m \u001b[39mself\u001b[39;49m\u001b[39m.\u001b[39;49m_getitem_bool_array(key)\n\u001b[0;32m   3498\u001b[0m \u001b[39m# We are left with two options: a single key, and a collection of keys,\u001b[39;00m\n\u001b[0;32m   3499\u001b[0m \u001b[39m# We interpret tuples as collections only for non-MultiIndex\u001b[39;00m\n\u001b[0;32m   3500\u001b[0m is_single_key \u001b[39m=\u001b[39m \u001b[39misinstance\u001b[39m(key, \u001b[39mtuple\u001b[39m) \u001b[39mor\u001b[39;00m \u001b[39mnot\u001b[39;00m is_list_like(key)\n",
      "File \u001b[1;32mc:\\Users\\asgom\\anaconda3\\envs\\ironhack\\lib\\site-packages\\pandas\\core\\frame.py:3549\u001b[0m, in \u001b[0;36mDataFrame._getitem_bool_array\u001b[1;34m(self, key)\u001b[0m\n\u001b[0;32m   3543\u001b[0m     \u001b[39mraise\u001b[39;00m \u001b[39mValueError\u001b[39;00m(\n\u001b[0;32m   3544\u001b[0m         \u001b[39mf\u001b[39m\u001b[39m\"\u001b[39m\u001b[39mItem wrong length \u001b[39m\u001b[39m{\u001b[39;00m\u001b[39mlen\u001b[39m(key)\u001b[39m}\u001b[39;00m\u001b[39m instead of \u001b[39m\u001b[39m{\u001b[39;00m\u001b[39mlen\u001b[39m(\u001b[39mself\u001b[39m\u001b[39m.\u001b[39mindex)\u001b[39m}\u001b[39;00m\u001b[39m.\u001b[39m\u001b[39m\"\u001b[39m\n\u001b[0;32m   3545\u001b[0m     )\n\u001b[0;32m   3547\u001b[0m \u001b[39m# check_bool_indexer will throw exception if Series key cannot\u001b[39;00m\n\u001b[0;32m   3548\u001b[0m \u001b[39m# be reindexed to match DataFrame rows\u001b[39;00m\n\u001b[1;32m-> 3549\u001b[0m key \u001b[39m=\u001b[39m check_bool_indexer(\u001b[39mself\u001b[39;49m\u001b[39m.\u001b[39;49mindex, key)\n\u001b[0;32m   3550\u001b[0m indexer \u001b[39m=\u001b[39m key\u001b[39m.\u001b[39mnonzero()[\u001b[39m0\u001b[39m]\n\u001b[0;32m   3551\u001b[0m \u001b[39mreturn\u001b[39;00m \u001b[39mself\u001b[39m\u001b[39m.\u001b[39m_take_with_is_copy(indexer, axis\u001b[39m=\u001b[39m\u001b[39m0\u001b[39m)\n",
      "File \u001b[1;32mc:\\Users\\asgom\\anaconda3\\envs\\ironhack\\lib\\site-packages\\pandas\\core\\indexing.py:2383\u001b[0m, in \u001b[0;36mcheck_bool_indexer\u001b[1;34m(index, key)\u001b[0m\n\u001b[0;32m   2381\u001b[0m     mask \u001b[39m=\u001b[39m isna(result\u001b[39m.\u001b[39m_values)\n\u001b[0;32m   2382\u001b[0m     \u001b[39mif\u001b[39;00m mask\u001b[39m.\u001b[39many():\n\u001b[1;32m-> 2383\u001b[0m         \u001b[39mraise\u001b[39;00m IndexingError(\n\u001b[0;32m   2384\u001b[0m             \u001b[39m\"\u001b[39m\u001b[39mUnalignable boolean Series provided as \u001b[39m\u001b[39m\"\u001b[39m\n\u001b[0;32m   2385\u001b[0m             \u001b[39m\"\u001b[39m\u001b[39mindexer (index of the boolean Series and of \u001b[39m\u001b[39m\"\u001b[39m\n\u001b[0;32m   2386\u001b[0m             \u001b[39m\"\u001b[39m\u001b[39mthe indexed object do not match).\u001b[39m\u001b[39m\"\u001b[39m\n\u001b[0;32m   2387\u001b[0m         )\n\u001b[0;32m   2388\u001b[0m     \u001b[39mreturn\u001b[39;00m result\u001b[39m.\u001b[39mastype(\u001b[39mbool\u001b[39m)\u001b[39m.\u001b[39m_values\n\u001b[0;32m   2389\u001b[0m \u001b[39mif\u001b[39;00m is_object_dtype(key):\n\u001b[0;32m   2390\u001b[0m     \u001b[39m# key might be object-dtype bool, check_array_indexer needs bool array\u001b[39;00m\n",
      "\u001b[1;31mIndexingError\u001b[0m: Unalignable boolean Series provided as indexer (index of the boolean Series and of the indexed object do not match)."
     ]
    }
   ],
   "source": [
    "rest[rest[rest['id'].value_counts() > 1]]"
   ]
  },
  {
   "cell_type": "code",
   "execution_count": null,
   "metadata": {},
   "outputs": [],
   "source": []
  }
 ],
 "metadata": {
  "kernelspec": {
   "display_name": "Python 3.9.12 ('ironhack')",
   "language": "python",
   "name": "python3"
  },
  "language_info": {
   "codemirror_mode": {
    "name": "ipython",
    "version": 3
   },
   "file_extension": ".py",
   "mimetype": "text/x-python",
   "name": "python",
   "nbconvert_exporter": "python",
   "pygments_lexer": "ipython3",
   "version": "3.9.12"
  },
  "orig_nbformat": 4,
  "vscode": {
   "interpreter": {
    "hash": "0094f863879e23567bc7f1203464ab0e17c9a144de34e46277031dbb63b00f13"
   }
  }
 },
 "nbformat": 4,
 "nbformat_minor": 2
}
